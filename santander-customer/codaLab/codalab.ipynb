{
 "cells": [
  {
   "cell_type": "code",
   "execution_count": 2,
   "metadata": {},
   "outputs": [],
   "source": [
    "import matplotlib.pyplot as plt\n",
    "#I = plt.imread('images_training.tiff')"
   ]
  },
  {
   "cell_type": "code",
   "execution_count": 3,
   "metadata": {},
   "outputs": [
    {
     "ename": "TypeError",
     "evalue": "'TiffImageFile' object does not support indexing",
     "output_type": "error",
     "traceback": [
      "\u001b[1;31m---------------------------------------------------------------------------\u001b[0m",
      "\u001b[1;31mTypeError\u001b[0m                                 Traceback (most recent call last)",
      "\u001b[1;32m<ipython-input-3-f476cc96de22>\u001b[0m in \u001b[0;36m<module>\u001b[1;34m\u001b[0m\n\u001b[0;32m      1\u001b[0m \u001b[1;32mfrom\u001b[0m \u001b[0mPIL\u001b[0m \u001b[1;32mimport\u001b[0m \u001b[0mImage\u001b[0m\u001b[1;33m\u001b[0m\u001b[0m\n\u001b[0;32m      2\u001b[0m \u001b[0mim\u001b[0m \u001b[1;33m=\u001b[0m \u001b[0mImage\u001b[0m\u001b[1;33m.\u001b[0m\u001b[0mopen\u001b[0m\u001b[1;33m(\u001b[0m\u001b[1;34m'images_training.tiff'\u001b[0m\u001b[1;33m)\u001b[0m\u001b[1;33m\u001b[0m\u001b[0m\n\u001b[1;32m----> 3\u001b[1;33m \u001b[0mplt\u001b[0m\u001b[1;33m.\u001b[0m\u001b[0mimshow\u001b[0m\u001b[1;33m(\u001b[0m\u001b[0mim\u001b[0m\u001b[1;33m[\u001b[0m\u001b[1;36m0\u001b[0m\u001b[1;33m]\u001b[0m\u001b[1;33m)\u001b[0m\u001b[1;33m\u001b[0m\u001b[0m\n\u001b[0m",
      "\u001b[1;31mTypeError\u001b[0m: 'TiffImageFile' object does not support indexing"
     ]
    }
   ],
   "source": [
    "from PIL import Image\n",
    "im = Image.open('images_training.tiff')\n",
    "plt.imshow(im[0])"
   ]
  },
  {
   "cell_type": "code",
   "execution_count": 1,
   "metadata": {},
   "outputs": [
    {
     "name": "stdout",
     "output_type": "stream",
     "text": [
      "(209933, 24, 24, 3)\n"
     ]
    }
   ],
   "source": [
    "from skimage import io\n",
    "\n",
    "train = io.imread('images_training.tiff')\n",
    "print (train.shape)\n"
   ]
  },
  {
   "cell_type": "code",
   "execution_count": null,
   "metadata": {},
   "outputs": [],
   "source": []
  },
  {
   "cell_type": "code",
   "execution_count": 3,
   "metadata": {},
   "outputs": [],
   "source": [
    "test = io.imread('images_test.tiff')"
   ]
  },
  {
   "cell_type": "code",
   "execution_count": null,
   "metadata": {},
   "outputs": [],
   "source": []
  },
  {
   "cell_type": "code",
   "execution_count": 4,
   "metadata": {
    "scrolled": true
   },
   "outputs": [],
   "source": [
    "#convert the images into numpy data\n",
    "import numpy as np\n",
    "train_x=np.stack(train)\n",
    "test_x=np.stack(test)"
   ]
  },
  {
   "cell_type": "code",
   "execution_count": null,
   "metadata": {},
   "outputs": [],
   "source": [
    "#we now reduce the image arrays to values below one \n",
    "train_x=train_x/255.\n",
    "test_x=test_x/255."
   ]
  },
  {
   "cell_type": "code",
   "execution_count": null,
   "metadata": {},
   "outputs": [],
   "source": []
  },
  {
   "cell_type": "code",
   "execution_count": 9,
   "metadata": {},
   "outputs": [],
   "source": [
    "import pandas as pd\n",
    "col=['ID','No_spot','x-cord1','y-cord1','x-cord2','y-cord2']\n",
    "\n",
    "desc=pd.read_csv('descriptions_training.csv',names=col)"
   ]
  },
  {
   "cell_type": "code",
   "execution_count": 94,
   "metadata": {},
   "outputs": [
    {
     "data": {
      "text/plain": [
       "(9604, 6)"
      ]
     },
     "execution_count": 94,
     "metadata": {},
     "output_type": "execute_result"
    }
   ],
   "source": [
    "t9=desc[desc.No_spot ==2]\n",
    "t9.shape"
   ]
  },
  {
   "cell_type": "code",
   "execution_count": 11,
   "metadata": {},
   "outputs": [],
   "source": [
    "train_y = keras.utils.np_utils.to_categorical(desc.No_spot)"
   ]
  },
  {
   "cell_type": "code",
   "execution_count": 10,
   "metadata": {},
   "outputs": [
    {
     "name": "stderr",
     "output_type": "stream",
     "text": [
      "Using TensorFlow backend.\n"
     ]
    }
   ],
   "source": [
    "import random\n",
    "import keras\n",
    "from keras.models import Sequential\n",
    "from keras.layers.core import Flatten, Dense, Dropout\n",
    "from keras.layers.convolutional import Convolution2D, MaxPooling2D, ZeroPadding2D\n",
    "from sklearn.preprocessing import LabelEncoder\n",
    "from keras.optimizers import SGD, Adam, Adamax"
   ]
  },
  {
   "cell_type": "code",
   "execution_count": 12,
   "metadata": {},
   "outputs": [],
   "source": [
    "from sklearn.feature_extraction.text import TfidfTransformer as tft\n",
    "import string\n",
    "from nltk.corpus import stopwords\n",
    "import warnings\n",
    "warnings.filterwarnings('ignore')\n",
    "warnings.filterwarnings('ignore', category=DeprecationWarning)\n",
    "\n",
    "\n",
    "from collections import Counter\n",
    "from sklearn.model_selection import train_test_split as tts\n",
    "from sklearn.model_selection import KFold as kf\n",
    "from sklearn.model_selection import cross_val_score as cvs\n",
    "from sklearn.feature_extraction.text import CountVectorizer as cv\n",
    "from sklearn.feature_extraction.text import TfidfVectorizer as tv\n",
    "from sklearn.linear_model import LogisticRegression as lr\n",
    "from sklearn.linear_model import Lasso\n",
    "from sklearn.linear_model import Ridge\n",
    "from sklearn.preprocessing import RobustScaler as rs\n",
    "from sklearn.metrics import classification_report as cr\n",
    "from sklearn.svm import SVC\n",
    "from sklearn.ensemble import RandomForestClassifier as rfc\n",
    "from sklearn.ensemble import GradientBoostingClassifier as gbc\n",
    "from sklearn.kernel_ridge import KernelRidge as kr\n",
    "from sklearn.metrics import confusion_matrix as cm\n",
    "from sklearn.metrics import accuracy_score as acc\n",
    "from sklearn.metrics import f1_score as fs\n",
    "from sklearn.linear_model import LinearRegression as Lr\n",
    "from sklearn.pipeline import make_pipeline as mp\n",
    "from sklearn.naive_bayes import MultinomialNB as mnb\n",
    "from sklearn.base import BaseEstimator as be\n",
    "from sklearn.base import TransformerMixin as tm\n",
    "from sklearn.base import RegressorMixin as rm\n",
    "from sklearn.base import clone\n",
    "from nltk.stem import PorterStemmer as ps\n",
    "from nltk.tokenize import word_tokenize as wt\n",
    "\n",
    "from sklearn.neighbors import KNeighborsClassifier as knc\n",
    "from sklearn import model_selection as ms\n",
    "from sklearn.svm import SVC\n",
    "from sklearn.naive_bayes import GaussianNB as gn\n",
    "from sklearn.discriminant_analysis import LinearDiscriminantAnalysis as ld\n",
    "from sklearn.tree import DecisionTreeClassifier as dtc\n",
    "from sklearn.linear_model import LogisticRegression as lr\n",
    "from sklearn.model_selection import train_test_split as tts"
   ]
  },
  {
   "cell_type": "code",
   "execution_count": 22,
   "metadata": {},
   "outputs": [],
   "source": [
    "xTrain,xTest,yTrain,yTest=tts(train_x,desc['x-cord1'],test_size=0.3,random_state=42)"
   ]
  },
  {
   "cell_type": "code",
   "execution_count": 33,
   "metadata": {},
   "outputs": [],
   "source": [
    "from keras.layers.advanced_activations import LeakyReLU\n",
    "epochs = 15\n",
    "batch_size = 128\n",
    "model = Sequential()\n",
    "model.add(Convolution2D(32, (3, 3), padding='valid',activation='linear', input_shape=(24,24,3)))\n",
    "model.add(LeakyReLU(alpha=0.1))\n",
    "model.add(Convolution2D(16, (3, 3), padding='valid',activation='linear'))\n",
    "model.add(LeakyReLU(alpha=0.1))\n",
    "model.add(MaxPooling2D(pool_size=(2,2)))\n",
    "model.add(Dropout(0.25))\n",
    "model.add(Convolution2D(8, (3, 3), padding='valid',activation='linear'))\n",
    "model.add(LeakyReLU(alpha=0.1))\n",
    "model.add(MaxPooling2D(pool_size=(2,2)))\n",
    "model.add(Dropout(0.2))\n",
    "model.add(Flatten())\n",
    "model.add(Dense(128, activation='linear'))\n",
    "model.add(LeakyReLU(alpha=0.1))\n",
    "model.add(Dropout(0.25))\n",
    "model.add(Dense(1,activation='linear'))\n",
    "\n",
    "#Dropout is used to solve problems of overfitting\n",
    "#LeakyReLU is used since the outcome is not linear\n",
    "#ReLU can be used but it dies frequently"
   ]
  },
  {
   "cell_type": "code",
   "execution_count": 14,
   "metadata": {},
   "outputs": [
    {
     "name": "stdout",
     "output_type": "stream",
     "text": [
      "_________________________________________________________________\n",
      "Layer (type)                 Output Shape              Param #   \n",
      "=================================================================\n",
      "conv2d_1 (Conv2D)            (None, 22, 22, 32)        896       \n",
      "_________________________________________________________________\n",
      "leaky_re_lu_1 (LeakyReLU)    (None, 22, 22, 32)        0         \n",
      "_________________________________________________________________\n",
      "conv2d_2 (Conv2D)            (None, 20, 20, 16)        4624      \n",
      "_________________________________________________________________\n",
      "leaky_re_lu_2 (LeakyReLU)    (None, 20, 20, 16)        0         \n",
      "_________________________________________________________________\n",
      "max_pooling2d_1 (MaxPooling2 (None, 10, 10, 16)        0         \n",
      "_________________________________________________________________\n",
      "dropout_1 (Dropout)          (None, 10, 10, 16)        0         \n",
      "_________________________________________________________________\n",
      "conv2d_3 (Conv2D)            (None, 8, 8, 8)           1160      \n",
      "_________________________________________________________________\n",
      "leaky_re_lu_3 (LeakyReLU)    (None, 8, 8, 8)           0         \n",
      "_________________________________________________________________\n",
      "max_pooling2d_2 (MaxPooling2 (None, 4, 4, 8)           0         \n",
      "_________________________________________________________________\n",
      "dropout_2 (Dropout)          (None, 4, 4, 8)           0         \n",
      "_________________________________________________________________\n",
      "flatten_1 (Flatten)          (None, 128)               0         \n",
      "_________________________________________________________________\n",
      "dense_1 (Dense)              (None, 128)               16512     \n",
      "_________________________________________________________________\n",
      "leaky_re_lu_4 (LeakyReLU)    (None, 128)               0         \n",
      "_________________________________________________________________\n",
      "dropout_3 (Dropout)          (None, 128)               0         \n",
      "_________________________________________________________________\n",
      "dense_2 (Dense)              (None, 3)                 387       \n",
      "=================================================================\n",
      "Total params: 23,579\n",
      "Trainable params: 23,579\n",
      "Non-trainable params: 0\n",
      "_________________________________________________________________\n"
     ]
    }
   ],
   "source": [
    "model.summary()"
   ]
  },
  {
   "cell_type": "code",
   "execution_count": 34,
   "metadata": {},
   "outputs": [],
   "source": [
    "model.compile(optimizer=Adam(lr=0.005, beta_1=0.9, beta_2=0.999, epsilon=None, decay=1e-9, amsgrad=False), loss='mae',metrics=['accuracy'])"
   ]
  },
  {
   "cell_type": "code",
   "execution_count": null,
   "metadata": {},
   "outputs": [
    {
     "name": "stdout",
     "output_type": "stream",
     "text": [
      "Train on 146953 samples, validate on 62980 samples\n",
      "Epoch 1/15\n",
      "146953/146953 [==============================] - 6348s 43ms/step - loss: 3.1870 - acc: 0.2218 - val_loss: 2.3601 - val_acc: 0.1925\n",
      "Epoch 2/15\n",
      "146953/146953 [==============================] - 7382s 50ms/step - loss: 1.7162 - acc: 0.2311 - val_loss: 1.6058 - val_acc: 0.1098\n",
      "Epoch 3/15\n",
      "146953/146953 [==============================] - 6206s 42ms/step - loss: 1.5368 - acc: 0.2350 - val_loss: 1.0339 - val_acc: 0.3537\n",
      "Epoch 4/15\n",
      "146953/146953 [==============================] - 5818s 40ms/step - loss: 1.4886 - acc: 0.2354 - val_loss: 0.9833 - val_acc: 0.1244\n",
      "Epoch 5/15\n",
      "146953/146953 [==============================] - 6148s 42ms/step - loss: 1.4316 - acc: 0.2448 - val_loss: 1.0107 - val_acc: 0.1468\n",
      "Epoch 6/15\n",
      "146944/146953 [============================>.] - ETA: 0s - loss: 1.4032 - acc: 0.2458"
     ]
    }
   ],
   "source": [
    "model2=model.fit(xTrain,yTrain , batch_size=batch_size,epochs=epochs,verbose=1,validation_data=(xTest,yTest))"
   ]
  },
  {
   "cell_type": "code",
   "execution_count": null,
   "metadata": {},
   "outputs": [],
   "source": [
    "# The validation loss is lower than the training loss signifying a model which isnt overfitting .\n",
    "#The same can be said about the acuracy of bot"
   ]
  },
  {
   "cell_type": "code",
   "execution_count": 20,
   "metadata": {},
   "outputs": [
    {
     "name": "stdout",
     "output_type": "stream",
     "text": [
      "62980/62980 [==============================] - 563s 9ms/step\n",
      "Test loss: 0.06061582215409519\n",
      "Test Accuracy: 0.9800412829469672\n"
     ]
    }
   ],
   "source": [
    "test_eval=model.evaluate(xTest,yTest,verbose=1)\n",
    "print('Test loss:',test_eval[0])\n",
    "print('Test Accuracy:',test_eval[1])"
   ]
  },
  {
   "cell_type": "code",
   "execution_count": 21,
   "metadata": {},
   "outputs": [],
   "source": [
    "accuracy=model2.history['acc']\n",
    "val_acc=model2.history['val_acc']\n",
    "\n",
    "loss=model2.history['loss']\n",
    "val_loss=model2.history['val_loss']\n",
    "epochs=range(len(accuracy))\n"
   ]
  },
  {
   "cell_type": "code",
   "execution_count": null,
   "metadata": {},
   "outputs": [],
   "source": [
    " # Plotting the graph of training and Validation accuracy as well as training and validation loss\n",
    "# the model is said to be overfitting incase training and validation accuracy is not linearly increasing also when validation and training\n",
    "#loss are not linearly decreasing\n",
    "#from the below the graph ,its not the case hence we can say we have a generally perfect model which is 98% accurate"
   ]
  },
  {
   "cell_type": "code",
   "execution_count": 23,
   "metadata": {},
   "outputs": [
    {
     "data": {
      "image/png": "[encoded data removed]",
      "text/plain": [
       "<Figure size 432x288 with 1 Axes>"
      ]
     },
     "metadata": {
      "needs_background": "light"
     },
     "output_type": "display_data"
    },
    {
     "data": {
      "image/png": "[encoded data removed]",
      "text/plain": [
       "<Figure size 432x288 with 1 Axes>"
      ]
     },
     "metadata": {
      "needs_background": "light"
     },
     "output_type": "display_data"
    }
   ],
   "source": [
    "from matplotlib import pyplot as plt\n",
    "\n",
    "plt.plot(epochs,accuracy,'bo',label='Training Accuracy')\n",
    "plt.plot(epochs,val_acc,'b',label='Validation Accuracy')\n",
    "plt.title('Training and Validation Accuracy')\n",
    "plt.legend()\n",
    "plt.figure()\n",
    "\n",
    "plt.plot(epochs,loss,'bo',label='Training Loss')\n",
    "plt.plot(epochs,val_loss,'b',label='Validation Loss')\n",
    "plt.title('Training and Validation Loss')\n",
    "plt.legend()\n",
    "\n",
    "plt.show()\n",
    "\n"
   ]
  },
  {
   "cell_type": "code",
   "execution_count": 17,
   "metadata": {},
   "outputs": [],
   "source": [
    "predicton=model.predict(test_x) #predicting our validation set"
   ]
  },
  {
   "cell_type": "code",
   "execution_count": 18,
   "metadata": {},
   "outputs": [],
   "source": [
    "prediction=np.argmax(np.round(predicton),axis=1) #rounding the values and then picking the maximum value for each index of the row"
   ]
  },
  {
   "cell_type": "code",
   "execution_count": 19,
   "metadata": {},
   "outputs": [
    {
     "data": {
      "text/plain": [
       "array([1, 1, 1, ..., 0, 0, 0], dtype=int64)"
      ]
     },
     "execution_count": 19,
     "metadata": {},
     "output_type": "execute_result"
    }
   ],
   "source": [
    "prediction"
   ]
  },
  {
   "cell_type": "code",
   "execution_count": 21,
   "metadata": {},
   "outputs": [],
   "source": [
    "final=pd.DataFrame({'No_Spots':prediction})\n",
    "final.to_csv('final.csv',index=False)"
   ]
  },
  {
   "cell_type": "code",
   "execution_count": 87,
   "metadata": {},
   "outputs": [
    {
     "name": "stdout",
     "output_type": "stream",
     "text": [
      "Found 61715 correct labels\n",
      "Found 1265 incorrect labels\n"
     ]
    }
   ],
   "source": [
    "correct=np.where(prediction==YTest)[0]\n",
    "incorrect=np.where(prediction !=YTest)[0]\n",
    "print('Found %d correct labels'%len(correct))\n",
    "print('Found %d incorrect labels'%len(incorrect))"
   ]
  },
  {
   "cell_type": "code",
   "execution_count": 50,
   "metadata": {},
   "outputs": [
    {
     "name": "stdout",
     "output_type": "stream",
     "text": [
      "              precision    recall  f1-score   support\n",
      "\n",
      "           0       1.00      0.99      0.99     30016\n",
      "           1       0.97      0.99      0.98     30089\n",
      "           2       0.91      0.74      0.82      2875\n",
      "\n",
      "   micro avg       0.98      0.98      0.98     62980\n",
      "   macro avg       0.96      0.91      0.93     62980\n",
      "weighted avg       0.98      0.98      0.98     62980\n",
      "\n"
     ]
    }
   ],
   "source": [
    "from sklearn.metrics import classification_report as cr\n",
    "print(cr(YTest,prediction,target_names=['0','1','2']))"
   ]
  },
  {
   "cell_type": "code",
   "execution_count": 56,
   "metadata": {},
   "outputs": [],
   "source": [
    "model.save_weights('weights.h5')\n"
   ]
  },
  {
   "cell_type": "code",
   "execution_count": 57,
   "metadata": {},
   "outputs": [],
   "source": [
    "model.save('modelcnn.h5py')"
   ]
  },
  {
   "cell_type": "code",
   "execution_count": 48,
   "metadata": {},
   "outputs": [],
   "source": [
    "YTest=np.argmax(np.round(yTest),axis=1)"
   ]
  },
  {
   "cell_type": "code",
   "execution_count": 52,
   "metadata": {},
   "outputs": [
    {
     "name": "stdout",
     "output_type": "stream",
     "text": [
      "Confusion-Matrix\n",
      "[[29771   240     5]\n",
      " [   71 29816   202]\n",
      " [   18   729  2128]]\n"
     ]
    }
   ],
   "source": [
    "from sklearn.metrics import confusion_matrix as cm\n",
    "print('Confusion-Matrix')\n",
    "print(cm(YTest,prediction))"
   ]
  },
  {
   "cell_type": "code",
   "execution_count": 53,
   "metadata": {},
   "outputs": [
    {
     "data": {
      "text/plain": [
       "Text(0.5, 15.0, 'Predicted label')"
      ]
     },
     "execution_count": 53,
     "metadata": {},
     "output_type": "execute_result"
    },
    {
     "data": {
      "image/png": "[encoded data removed]",
      "text/plain": [
       "<Figure size 432x288 with 2 Axes>"
      ]
     },
     "metadata": {
      "needs_background": "light"
     },
     "output_type": "display_data"
    }
   ],
   "source": [
    "import seaborn as sns\n",
    "conf=cm(YTest,prediction)\n",
    "sns.heatmap(conf)\n",
    "plt.ylabel('True label')\n",
    "plt.xlabel('Predicted label')"
   ]
  },
  {
   "cell_type": "code",
   "execution_count": 92,
   "metadata": {},
   "outputs": [
    {
     "data": {
      "image/png": "[encoded data removed]",
      "text/plain": [
       "<Figure size 432x288 with 9 Axes>"
      ]
     },
     "metadata": {
      "needs_background": "light"
     },
     "output_type": "display_data"
    }
   ],
   "source": [
    "#plotting an over-view of correctly predicted images\n",
    "for i,corect in enumerate(correct[45:54]):\n",
    "    plt.subplot(3,3,i+1)\n",
    "    plt.imshow(xTest[corect].reshape(24,24,3),cmap='gray',interpolation=None)\n",
    "    plt.title('Predicted {},No Spots {}'.format(prediction[corect],YTest[corect]))\n",
    "    plt.tight_layout()"
   ]
  },
  {
   "cell_type": "code",
   "execution_count": 89,
   "metadata": {},
   "outputs": [
    {
     "data": {
      "image/png": "[encoded data removed]",
      "text/plain": [
       "<Figure size 432x288 with 9 Axes>"
      ]
     },
     "metadata": {
      "needs_background": "light"
     },
     "output_type": "display_data"
    }
   ],
   "source": [
    "for i,incorect in enumerate(incorrect[:9]):\n",
    "    plt.subplot(3,3,i+1)\n",
    "    plt.imshow(xTest[incorect].reshape(24,24,3),cmap='gray',interpolation=None)\n",
    "    plt.title('Predicted {},No Spots {}'.format(prediction[incorect],YTest[incorect]))\n",
    "    plt.tight_layout()"
   ]
  },
  {
   "cell_type": "code",
   "execution_count": null,
   "metadata": {},
   "outputs": [],
   "source": []
  }
 ],
 "metadata": {
  "kernelspec": {
   "display_name": "Python 3",
   "language": "python",
   "name": "python3"
  },
  "language_info": {
   "codemirror_mode": {
    "name": "ipython",
    "version": 3
   },
   "file_extension": ".py",
   "mimetype": "text/x-python",
   "name": "python",
   "nbconvert_exporter": "python",
   "pygments_lexer": "ipython3",
   "version": "3.6.6"
  }
 },
 "nbformat": 4,
 "nbformat_minor": 2
}
