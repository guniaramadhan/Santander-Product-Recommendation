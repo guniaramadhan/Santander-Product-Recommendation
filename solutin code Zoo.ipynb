{
 "cells": [
  {
   "cell_type": "code",
   "execution_count": 2,
   "metadata": {},
   "outputs": [],
   "source": [
    "import pandas as pd\n",
    "train=pd.read_csv('train.csv')\n",
    "test=pd.read_csv('test.csv')"
   ]
  },
  {
   "cell_type": "code",
   "execution_count": 4,
   "metadata": {},
   "outputs": [],
   "source": [
    "features = [x for x in train.columns if x.startswith(\"var\")]\n"
   ]
  },
  {
   "cell_type": "code",
   "execution_count": 6,
   "metadata": {},
   "outputs": [],
   "source": [
    "hist_df = pd.DataFrame()\n",
    "for var in features:\n",
    "    var_stats = train[var].append(test[var]).value_counts()\n",
    "    hist_df[var] = pd.Series(test[var]).map(var_stats)\n",
    "    hist_df[var] = hist_df[var] > 1\n",
    "    \n",
    "ind = hist_df.sum(axis=1) != 200\n",
    "var_stats = {var:train[var].append(test[ind][var]).value_counts() for var in features}"
   ]
  },
  {
   "cell_type": "code",
   "execution_count": 7,
   "metadata": {},
   "outputs": [],
   "source": [
    "import numpy as np\n",
    "#import pandas as pd\n",
    "import lightgbm as lgb\n",
    "from scipy.special import logit\n",
    "pred = 0\n",
    "for var in features:\n",
    "    model = lgb.LGBMClassifier(**{\n",
    "        'learning_rate':0.05, 'max_bin': 165, 'max_depth': 5, 'min_child_samples': 150,\n",
    "        'min_child_weight': 0.1, 'min_split_gain': 0.0018, 'n_estimators': 41,\n",
    "        'num_leaves': 6, 'reg_alpha': 2.0, 'reg_lambda': 2.54, 'objective': 'binary', 'n_jobs': -1})\n",
    "    model = model.fit(np.hstack([train[var].values.reshape(-1,1),\n",
    "                                 train[var].map(var_stats[var]).values.reshape(-1,1)]),\n",
    "                               train[\"target\"].values)\n",
    "    pred += logit(model.predict_proba(np.hstack([test[var].values.reshape(-1,1),\n",
    "                                 test[var].map(var_stats[var]).values.reshape(-1,1)]))[:,1])"
   ]
  },
  {
   "cell_type": "code",
   "execution_count": 9,
   "metadata": {},
   "outputs": [],
   "source": [
    "pd.DataFrame({\"ID_code\":test[\"ID_code\"], \"target\":pred}).to_csv(\"submission.csv\", index=False)"
   ]
  },
  {
   "cell_type": "code",
   "execution_count": null,
   "metadata": {},
   "outputs": [],
   "source": []
  }
 ],
 "metadata": {
  "kernelspec": {
   "display_name": "Python 3",
   "language": "python",
   "name": "python3"
  },
  "language_info": {
   "codemirror_mode": {
    "name": "ipython",
    "version": 3
   },
   "file_extension": ".py",
   "mimetype": "text/x-python",
   "name": "python",
   "nbconvert_exporter": "python",
   "pygments_lexer": "ipython3",
   "version": "3.6.6"
  }
 },
 "nbformat": 4,
 "nbformat_minor": 2
}
