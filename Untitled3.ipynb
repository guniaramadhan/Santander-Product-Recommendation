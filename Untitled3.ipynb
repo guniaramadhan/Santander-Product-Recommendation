{
 "cells": [
  {
   "cell_type": "code",
   "execution_count": 1,
   "metadata": {},
   "outputs": [],
   "source": [
    "import numpy as np\n",
    "import pandas as pd\n",
    "import gc\n",
    "import lightgbm as lgb\n",
    "from sklearn.model_selection import StratifiedKFold\n",
    "from scipy.stats import rankdata"
   ]
  },
  {
   "cell_type": "code",
   "execution_count": 2,
   "metadata": {},
   "outputs": [],
   "source": [
    "train=pd.read_csv('train.csv')\n",
    "test=pd.read_csv('test.csv')"
   ]
  },
  {
   "cell_type": "code",
   "execution_count": 3,
   "metadata": {},
   "outputs": [],
   "source": [
    "features = [x for x in train.columns if x.startswith(\"var\")]\n",
    "\n",
    "#Reverse features\n",
    "for var in features:\n",
    "    if np.corrcoef( train['target'], train[var] )[1][0] < 0:\n",
    "        train[var] = train[var] * -1\n",
    "        test[var]  = test[var]  * -1"
   ]
  },
  {
   "cell_type": "code",
   "execution_count": 5,
   "metadata": {},
   "outputs": [],
   "source": [
    "#count all values\n",
    "var_stats = {}\n",
    "hist_df = pd.DataFrame()\n",
    "for var in features:\n",
    "    var_stats = train[var].append(test[var]).value_counts()\n",
    "    hist_df[var] = pd.Series(test[var]).map(var_stats)\n",
    "    hist_df[var] = hist_df[var] > 1\n",
    "#remove fake test rows\n",
    "ind = hist_df.sum(axis=1) != 200"
   ]
  },
  {
   "cell_type": "code",
   "execution_count": 6,
   "metadata": {},
   "outputs": [],
   "source": [
    "#recount values without fake rows\n",
    "var_stats = {}\n",
    "for var in features:\n",
    "    var_stats[var] = train[var].append(test[ind][var]).value_counts()"
   ]
  },
  {
   "cell_type": "code",
   "execution_count": 7,
   "metadata": {},
   "outputs": [],
   "source": [
    "def logit(p):\n",
    "    return np.log(p) - np.log(1 - p)\n",
    "\n",
    "def var_to_feat(vr, var_stats, feat_id ):\n",
    "    new_df = pd.DataFrame()\n",
    "    new_df[\"var\"] = vr.values\n",
    "    new_df[\"hist\"] = pd.Series(vr).map(var_stats)\n",
    "    new_df[\"feature_id\"] = feat_id\n",
    "    new_df[\"var_rank\"] = new_df[\"var\"].rank()/200000.\n",
    "    return new_df.values"
   ]
  },
  {
   "cell_type": "code",
   "execution_count": 8,
   "metadata": {},
   "outputs": [
    {
     "ename": "MemoryError",
     "evalue": "",
     "output_type": "error",
     "traceback": [
      "\u001b[1;31m---------------------------------------------------------------------------\u001b[0m",
      "\u001b[1;31mMemoryError\u001b[0m                               Traceback (most recent call last)",
      "\u001b[1;32m<ipython-input-8-8a4d74632c6a>\u001b[0m in \u001b[0;36m<module>\u001b[1;34m\u001b[0m\n\u001b[0;32m     10\u001b[0m     \u001b[0mtmp\u001b[0m\u001b[1;33m[\u001b[0m\u001b[1;33m:\u001b[0m\u001b[1;33m,\u001b[0m\u001b[1;36m0\u001b[0m\u001b[1;33m]\u001b[0m \u001b[1;33m=\u001b[0m \u001b[1;33m(\u001b[0m\u001b[0mtmp\u001b[0m\u001b[1;33m[\u001b[0m\u001b[1;33m:\u001b[0m\u001b[1;33m,\u001b[0m\u001b[1;36m0\u001b[0m\u001b[1;33m]\u001b[0m\u001b[1;33m-\u001b[0m\u001b[0mvar_mean\u001b[0m\u001b[1;33m[\u001b[0m\u001b[0mvar\u001b[0m\u001b[1;33m]\u001b[0m\u001b[1;33m)\u001b[0m\u001b[1;33m/\u001b[0m\u001b[0mvar_var\u001b[0m\u001b[1;33m[\u001b[0m\u001b[0mvar\u001b[0m\u001b[1;33m]\u001b[0m\u001b[1;33m\u001b[0m\u001b[0m\n\u001b[0;32m     11\u001b[0m     \u001b[0mTRAIN\u001b[0m\u001b[1;33m.\u001b[0m\u001b[0mappend\u001b[0m\u001b[1;33m(\u001b[0m \u001b[0mtmp\u001b[0m \u001b[1;33m)\u001b[0m\u001b[1;33m\u001b[0m\u001b[0m\n\u001b[1;32m---> 12\u001b[1;33m \u001b[0mTRAIN\u001b[0m \u001b[1;33m=\u001b[0m \u001b[0mnp\u001b[0m\u001b[1;33m.\u001b[0m\u001b[0mvstack\u001b[0m\u001b[1;33m(\u001b[0m \u001b[0mTRAIN\u001b[0m \u001b[1;33m)\u001b[0m\u001b[1;33m\u001b[0m\u001b[0m\n\u001b[0m\u001b[0;32m     13\u001b[0m \u001b[1;33m\u001b[0m\u001b[0m\n\u001b[0;32m     14\u001b[0m \u001b[1;32mdel\u001b[0m \u001b[0mtrain\u001b[0m\u001b[1;33m\u001b[0m\u001b[0m\n",
      "\u001b[1;32mc:\\program files\\python36\\lib\\site-packages\\numpy\\core\\shape_base.py\u001b[0m in \u001b[0;36mvstack\u001b[1;34m(tup)\u001b[0m\n\u001b[0;32m    232\u001b[0m \u001b[1;33m\u001b[0m\u001b[0m\n\u001b[0;32m    233\u001b[0m     \"\"\"\n\u001b[1;32m--> 234\u001b[1;33m     \u001b[1;32mreturn\u001b[0m \u001b[0m_nx\u001b[0m\u001b[1;33m.\u001b[0m\u001b[0mconcatenate\u001b[0m\u001b[1;33m(\u001b[0m\u001b[1;33m[\u001b[0m\u001b[0matleast_2d\u001b[0m\u001b[1;33m(\u001b[0m\u001b[0m_m\u001b[0m\u001b[1;33m)\u001b[0m \u001b[1;32mfor\u001b[0m \u001b[0m_m\u001b[0m \u001b[1;32min\u001b[0m \u001b[0mtup\u001b[0m\u001b[1;33m]\u001b[0m\u001b[1;33m,\u001b[0m \u001b[1;36m0\u001b[0m\u001b[1;33m)\u001b[0m\u001b[1;33m\u001b[0m\u001b[0m\n\u001b[0m\u001b[0;32m    235\u001b[0m \u001b[1;33m\u001b[0m\u001b[0m\n\u001b[0;32m    236\u001b[0m \u001b[1;32mdef\u001b[0m \u001b[0mhstack\u001b[0m\u001b[1;33m(\u001b[0m\u001b[0mtup\u001b[0m\u001b[1;33m)\u001b[0m\u001b[1;33m:\u001b[0m\u001b[1;33m\u001b[0m\u001b[0m\n",
      "\u001b[1;31mMemoryError\u001b[0m: "
     ]
    }
   ],
   "source": [
    "TARGET = np.array( list(train['target'].values) * 200 )\n",
    "\n",
    "TRAIN = []\n",
    "var_mean = {}\n",
    "var_var  = {}\n",
    "for var in features:\n",
    "    tmp = var_to_feat(train[var], var_stats[var], int(var[4:]) )\n",
    "    var_mean[var] = np.mean(tmp[:,0]) \n",
    "    var_var[var]  = np.var(tmp[:,0])\n",
    "    tmp[:,0] = (tmp[:,0]-var_mean[var])/var_var[var]\n",
    "    TRAIN.append( tmp )\n",
    "TRAIN = np.vstack( TRAIN )\n",
    "\n",
    "del train\n",
    "_=gc.collect()\n",
    "\n",
    "print( TRAIN.shape, len( TARGET ) )"
   ]
  },
  {
   "cell_type": "code",
   "execution_count": null,
   "metadata": {},
   "outputs": [],
   "source": [
    "model = lgb.LGBMClassifier(**{\n",
    "     'learning_rate': 0.04,\n",
    "     'num_leaves': 31,\n",
    "     'max_bin': 1023,\n",
    "     'min_child_samples': 1000,\n",
    "     'reg_alpha': 0.1,\n",
    "     'reg_lambda': 0.2,\n",
    "     'feature_fraction': 1.0,\n",
    "     'bagging_freq': 1,\n",
    "     'bagging_fraction': 0.85,\n",
    "     'objective': 'binary',\n",
    "     'n_jobs': -1,\n",
    "     'n_estimators':200,})\n",
    "\n",
    "MODELS = []\n",
    "skf = StratifiedKFold(n_splits=10, shuffle=True, random_state=11111)\n",
    "for fold_, (train_indexes, valid_indexes) in enumerate(skf.split(TRAIN, TARGET)):\n",
    "    print('Fold:', fold_ )\n",
    "    model = model.fit( TRAIN[train_indexes], TARGET[train_indexes],\n",
    "                      eval_set = (TRAIN[valid_indexes], TARGET[valid_indexes]),\n",
    "                      verbose = 10,\n",
    "                      eval_metric='auc',\n",
    "                      early_stopping_rounds=25,\n",
    "                      categorical_feature = [2] )\n",
    "    MODELS.append( model )\n",
    "\n",
    "del TRAIN, TARGET\n",
    "_=gc.collect()"
   ]
  },
  {
   "cell_type": "code",
   "execution_count": null,
   "metadata": {},
   "outputs": [],
   "source": [
    "ypred = np.zeros( (200000,200) )\n",
    "for feat,var in enumerate(features):\n",
    "    tmp = var_to_feat(test_df[var], var_stats[var], int(var[4:]) )\n",
    "    tmp[:,0] = (tmp[:,0]-var_mean[var])/var_var[var]\n",
    "    for model_id in range(10):\n",
    "        model = MODELS[model_id]\n",
    "        ypred[:,feat] += model.predict_proba( tmp )[:,1] / 10.\n",
    "ypred = np.mean( logit(ypred), axis=1 )\n",
    "\n",
    "sub = test_df[['ID_code']]\n",
    "sub['target'] = ypred\n",
    "sub['target'] = sub['target'].rank() / 200000.\n",
    "sub.to_csv('golden_sub.csv', index=False)\n",
    "print( sub.head(10) )"
   ]
  }
 ],
 "metadata": {
  "kernelspec": {
   "display_name": "Python 3",
   "language": "python",
   "name": "python3"
  },
  "language_info": {
   "codemirror_mode": {
    "name": "ipython",
    "version": 3
   },
   "file_extension": ".py",
   "mimetype": "text/x-python",
   "name": "python",
   "nbconvert_exporter": "python",
   "pygments_lexer": "ipython3",
   "version": "3.6.6"
  }
 },
 "nbformat": 4,
 "nbformat_minor": 2
}
